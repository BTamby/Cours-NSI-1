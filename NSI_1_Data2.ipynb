{
 "cells": [
  {
   "cell_type": "markdown",
   "metadata": {
    "slideshow": {
     "slide_type": "slide"
    }
   },
   "source": [
    "# Représentation binaire des entiers relatifs"
   ]
  },
  {
   "cell_type": "markdown",
   "metadata": {
    "slideshow": {
     "slide_type": "slide"
    }
   },
   "source": [
    "## Introduction"
   ]
  },
  {
   "cell_type": "markdown",
   "metadata": {
    "slideshow": {
     "slide_type": "subslide"
    }
   },
   "source": [
    "*Remarque préalable*\n",
    "\n",
    "On distinguera **l'écriture binaire** d'un entier naturel de sa **représentation binaire** par un mot de longueur fixée. Lorsqu'on fixe la longueur du mot binaire représentant un entier natutrel donné on dit qu'on est en **capacité fixe**. \n",
    "\n",
    "**_Exemple_**. L'entier naturel $123$ a pour écriture binaire $\\underline{1111011}_2$. Cet entier n'est pas représentable par un mot binaire en capacité fixe égale à $3$. Il est représenté en capacité fixe égale à $2$ octets par $\\underline{0000~0000~0111~1011}_2$\n",
    "\n",
    "Dans cette leçon on travaille en capacité fixe $n$, $n\\in \\mathbb{N}$ . En pratique $n$ est souvent égal à $8$, $16$, $32$ ou $64$."
   ]
  },
  {
   "cell_type": "markdown",
   "metadata": {
    "slideshow": {
     "slide_type": "subslide"
    }
   },
   "source": [
    "**Vocabulaire**.\n",
    "\n",
    "Dans une représentation binaire, les bits les plus à gauche sont appelés les **bits de poids forts** et ceux les plus à droite les **bits de poids faibles**.\n",
    "\n",
    "**Exemple**\n",
    "\n",
    "Dans le mot binaire $\\underline{0100~1011}_2$ le bit de poids le plus fort est $0$ et le bit de poids le plus faible est $1$."
   ]
  },
  {
   "cell_type": "markdown",
   "metadata": {
    "slideshow": {
     "slide_type": "slide"
    }
   },
   "source": [
    "## Un exemple de représentation d'entiers relatifs"
   ]
  },
  {
   "cell_type": "markdown",
   "metadata": {
    "slideshow": {
     "slide_type": "subslide"
    }
   },
   "source": [
    "On suppose qu'on travaille en capacité fixe égale à $3$ bits. Cela siginifie que l'on dispose des $8$ représentations binaires suivantes :\n",
    "\n",
    "$000$, $001$, $010$, $011$, $100$, $101$, $110$ et $111$."
   ]
  },
  {
   "cell_type": "markdown",
   "metadata": {
    "slideshow": {
     "slide_type": "subslide"
    }
   },
   "source": [
    "Si on souhaite représenter des entiers naturels par les représentations précédentes ce seront les entiers $0$, $1$, $2$, $3$, $4$, $5$, $6$ et $7$."
   ]
  },
  {
   "cell_type": "markdown",
   "metadata": {
    "slideshow": {
     "slide_type": "subslide"
    }
   },
   "source": [
    "Si on souhaite représenter des entiers relatifs par ces $8$ mots il faudra alors choisir les mots qui représenteront les entiers négatifs et ceux qui représenteront les entiers positifs. Il s'avère alors nécessaire de réserver un bit pour coder le signe du nombre relatif. Il a été décidé que ce sera le bit de poids fort. Si celui-ci vaut $0$ alors le mot binaire représentera un entier naturel, sinon il représentera un entier négatif."
   ]
  },
  {
   "cell_type": "markdown",
   "metadata": {
    "slideshow": {
     "slide_type": "subslide"
    }
   },
   "source": [
    "Ainsi, les mots binaires $000$, $001$, $010$ et $011$ représentent des entiers naturels et les mots binaires $100$, $101$, $110$ et $111$ des entiers négatifs.\n",
    "\n",
    "Mais quels sont ces entiers relatifs ainsi représentés ?"
   ]
  },
  {
   "cell_type": "markdown",
   "metadata": {
    "slideshow": {
     "slide_type": "subslide"
    }
   },
   "source": [
    "Si on considère que le bit de poids fort donne le signe alors les deux autres bits indiqueront la valeur absolue de l'entier relatif. On obtient alors la correspondance suivante :"
   ]
  },
  {
   "cell_type": "markdown",
   "metadata": {
    "slideshow": {
     "slide_type": "subslide"
    }
   },
   "source": [
    "|Représentation binaire|Entier relatif|\n",
    "|:---:|---:|\n",
    "|$000$|$+0$|\n",
    "|$001$|$+1$|\n",
    "|$010$|$+2$|\n",
    "|$011$|$+3$|\n",
    "|$100$|$-0$|\n",
    "|$101$|$-1$|\n",
    "|$110$|$-2$|\n",
    "|$111$|$-3$|"
   ]
  },
  {
   "cell_type": "markdown",
   "metadata": {
    "slideshow": {
     "slide_type": "subslide"
    }
   },
   "source": [
    "Cette méthode présente deux inconvénients majeurs :\n",
    "\n",
    "* $0$ possède deux représentants : $\\underline{000}$ et $\\underline{100}$\n",
    "* L'addition de deux entiers relatifs ne se code pas sans erreur, par exemple l'addition de deux entiers opposés ne vaut pas toujours $0$. D'après le tableau précédent, $+1$ est représenté par $001$ et $-1$ par $101$, calculons alors ($+1$)+($-1$) :\n",
    "\n",
    "$$\n",
    "\\begin{array}{cc}\n",
    " &001 \\\\\\\n",
    "+&101\\\\\\\n",
    "=&110\n",
    "\\end{array}\n",
    "$$\n",
    "\n",
    "Dans ce résultat, le bit le plus fort est $1$ et la valeur absolue est $10$ donc le résultat de cette addition est $-2$ et pas $0$ !"
   ]
  },
  {
   "cell_type": "markdown",
   "metadata": {},
   "source": [
    "Il existe une méthode de représentation des entiers relatifs qui garantit la validité des propriétés mathématiques des opérations arithmétiques. Cette méthode exploite en fait la représentation en capacité fixe."
   ]
  },
  {
   "cell_type": "markdown",
   "metadata": {
    "slideshow": {
     "slide_type": "slide"
    }
   },
   "source": [
    "## Représentation des entiers relatifs en complément à $2$"
   ]
  },
  {
   "cell_type": "markdown",
   "metadata": {
    "slideshow": {
     "slide_type": "subslide"
    },
    "toc-hr-collapsed": false
   },
   "source": [
    "**Défintion 1**. **_Le complément à $1$_**\n",
    "\n",
    "Soit $x$ un mot binaire de longueur $n$. Le complément à $1$ de $x$ est le mot binaire obtenu à partir de $x$ en inversant un à un chaque bit, c'est à dire en changeant chaque $0$ en $1$ et chaque $1$ en $0$."
   ]
  },
  {
   "cell_type": "markdown",
   "metadata": {
    "slideshow": {
     "slide_type": "subslide"
    }
   },
   "source": [
    "**Exemple**\n",
    "\n",
    "En capacité fixe de $1$ octet, le complément à $1$ du mot $1001~1001$ est $0110~0110$."
   ]
  },
  {
   "cell_type": "markdown",
   "metadata": {
    "slideshow": {
     "slide_type": "subslide"
    }
   },
   "source": [
    "**Définition 2**. **_Le complément à $2$_**\n",
    "\n",
    "Soit $x$ un mot binaire de longueur $n$. Le complément à $2$ de $x$ est le mot binaire obtenu en ajoutant $1$ au complément à $1$ de $x$."
   ]
  },
  {
   "cell_type": "markdown",
   "metadata": {
    "slideshow": {
     "slide_type": "subslide"
    }
   },
   "source": [
    "**Exemple**\n",
    "\n",
    "En capacité fixe de $1$ octet, le complément à $2$ du mot $1001~1001$ est $0110~0111$."
   ]
  },
  {
   "cell_type": "markdown",
   "metadata": {
    "slideshow": {
     "slide_type": "subslide"
    }
   },
   "source": [
    "**Exercice 1**\n",
    "\n",
    "1. Déterminer la représentation binaire en capacité fixe égale à $10$ bits de $71$.\n",
    "2. Quel est le complément à $2$ du mot binaire obtenu à la question 1 ?"
   ]
  },
  {
   "cell_type": "markdown",
   "metadata": {
    "slideshow": {
     "slide_type": "subslide"
    }
   },
   "source": [
    "**Réponse**\n",
    "\n",
    "1. $71 = \\underline{1000111}_2$. Le mot binaire correspondant sur $10$ bits est donc $00~0100~0111$.\n",
    "2. Complément à $2$ de $00~0100~0111$.\n",
    "\n",
    "Le compément à $1$ de $00~0100~0111$ est $11~1011~1000$. Le complément à $2$ de $11~0100~0111$ est obtenu en ajoutant $1$ à $11~1011~1000$, ce qui donne $11~1011~1001$."
   ]
  },
  {
   "cell_type": "markdown",
   "metadata": {
    "slideshow": {
     "slide_type": "subslide"
    }
   },
   "source": [
    "**Exercice 2**\n",
    "\n",
    "On travaille en capacité fixe égale à $1$ octet. Compléter le tableau ci-dessous :\n",
    "\n",
    "|Mot binaire|Complément à $1$|Complément à $2$|\n",
    "|:---:|:---:|:---:|\n",
    "|$0101~1000$|$~$|$~$|\n",
    "|$~$|$~$|$1101~1001$|\n",
    "|$~$|$0001~1000$|$~$|\n"
   ]
  },
  {
   "cell_type": "markdown",
   "metadata": {
    "slideshow": {
     "slide_type": "subslide"
    }
   },
   "source": [
    "**Réponse**\n",
    "\n",
    "\n",
    "|Mot binaire|Complément à $1$|Complément à $2$|\n",
    "|:---:|:---:|:---:|\n",
    "|$0101~1000$|$1010~0111$|$1010~1000$|\n",
    "|$0010~0111$|$1101~1000$|$1101~1001$|\n",
    "|$1110~0111$|$0001~1000$|$0001~1001$|\n"
   ]
  },
  {
   "cell_type": "markdown",
   "metadata": {
    "slideshow": {
     "slide_type": "subslide"
    }
   },
   "source": [
    "**Représentation des entiers relatifs par le complément à $2$**.\n",
    "\n",
    "**_Le principe_**. Sur une capacité fixe de $n$ bits on peut représenter $2^n$ entiers relatifs, dont $2^{n-1}$ entiers positifs et $2^{n-1}$ entiers négatifs. Chaque entier positif, de $0$ à $2^{n-1}-1$, est représenté par un mot binaire de longueur $n$ dont le bit de poids fort est $0$. L'opposé de chacun des entiers positifs précédents est représenté par le complément à $2$ du représentant binaire de l'entier positif en question.\n"
   ]
  },
  {
   "cell_type": "markdown",
   "metadata": {
    "slideshow": {
     "slide_type": "subslide"
    }
   },
   "source": [
    "**Exemple**\n",
    "\n",
    "En capacité fixe égale à $4$ bits on peut représenter $2^4$ entiers relatifs dont $2^3$ positifs et $2^3$ négatifs. Le tableau ci-dessous donne la représentation binaire des entiers positifs :\n",
    "\n",
    "|Entier positif|Mot binaire|\n",
    "|:---:|:---:|\n",
    "|$0$|$0000$|\n",
    "|$1$|$0001$|\n",
    "|$2$|$0010$|\n",
    "|$3$|$0011$|\n",
    "|$4$|$0100$|\n",
    "|$5$|$0101$|\n",
    "|$6$|$0110$|\n",
    "|$7$|$0111$|"
   ]
  },
  {
   "cell_type": "markdown",
   "metadata": {
    "slideshow": {
     "slide_type": "subslide"
    }
   },
   "source": [
    "L'entier négatif $-1$ est représenté par le complément à $2$ du représentant binaire de $1$, l'entier négatif $-2$ est représenté par le complément à $2$ du représentant binaire de $2$, etc...Le tableau ci-dessous montre les représentations binaires en complément à $2$ des entiers négatifs $-1$, $-2$,...,$-8$ : "
   ]
  },
  {
   "cell_type": "markdown",
   "metadata": {
    "slideshow": {
     "slide_type": "subslide"
    }
   },
   "source": [
    "|Entier positif|Mot binaire|Complément à $1$|Complément à $2$|Entier négatif|\n",
    "|:---:|:---:|:---:|:---:|:---:|\n",
    "|$0$|$0000$|$1111$|$0000$|$0$|\n",
    "|$1$|$0001$|$1110$|$1111$|$-1$|\n",
    "|$2$|$0010$|$1101$|$1110$|$-2$|\n",
    "|$3$|$0011$|$1100$|$1101$|$-3$|\n",
    "|$4$|$0100$|$1011$|$1100$|$-4$|\n",
    "|$5$|$0101$|$1010$|$1011$|$-5$|\n",
    "|$6$|$0110$|$1001$|$1010$|$-6$|\n",
    "|$7$|$0111$|$1000$|$1001$|$-7$|\n",
    "|$8$|$1000$|$0111$|$1000$|$-8$|\n"
   ]
  },
  {
   "cell_type": "markdown",
   "metadata": {
    "slideshow": {
     "slide_type": "subslide"
    }
   },
   "source": [
    "**Vérifions que les propriétés mathématiques sont conservées par la représentation en complément à $2$**."
   ]
  },
  {
   "cell_type": "markdown",
   "metadata": {
    "slideshow": {
     "slide_type": "subslide"
    }
   },
   "source": [
    "**Addition d'un nombre et de son opposé** : Un exemple, $5+(-5)$.\n",
    "\n",
    "$$\n",
    "\\begin{array}{cc}\n",
    " &0101 \\\\\\\n",
    "+&1011\\\\\\\n",
    "=&0000\n",
    "\\end{array}\n",
    "$$\n",
    "\n",
    "La dernière retenue n'est pas représentée car on est en capacité fixe de $4$ bits. On a bien $5+(-5)=0$"
   ]
  },
  {
   "cell_type": "markdown",
   "metadata": {
    "slideshow": {
     "slide_type": "subslide"
    }
   },
   "source": [
    "**Addition quelconque** : Par exemple $3+(-6)$.\n",
    "\n",
    "$$\n",
    "\\begin{array}{cc}\n",
    " &0011\\\\\\\n",
    "+&1010\\\\\\\n",
    "=&1101\n",
    "\\end{array}\n",
    "$$\n",
    "\n",
    "Le mot binaire $1101$ représente l'entier relatif $-3$ en complément à $2$ sur $4$ bits. On a bien $3+(-6)=-3$"
   ]
  },
  {
   "cell_type": "markdown",
   "metadata": {
    "slideshow": {
     "slide_type": "subslide"
    }
   },
   "source": [
    "**Exercice 3**\n",
    "\n",
    "Poser et effectuer les opérations suivantes en complément à $2$ sur $4$ bits : a) $3+4$, b) $-2+3$ et c) $-1-5$."
   ]
  },
  {
   "cell_type": "markdown",
   "metadata": {
    "slideshow": {
     "slide_type": "subslide"
    }
   },
   "source": [
    "**Solution**"
   ]
  },
  {
   "cell_type": "markdown",
   "metadata": {
    "slideshow": {
     "slide_type": "subslide"
    }
   },
   "source": [
    "a) $3+4$\n",
    "\n",
    "$$\n",
    "\\begin{array}{cc}\n",
    " &0011\\\\\\\n",
    "+&0100\\\\\\\n",
    "=&0111\n",
    "\\end{array}\n",
    "$$"
   ]
  },
  {
   "cell_type": "markdown",
   "metadata": {
    "slideshow": {
     "slide_type": "subslide"
    }
   },
   "source": [
    "b) $-2+3$\n",
    "\n",
    "$$\n",
    "\\begin{array}{cc}\n",
    " &1110\\\\\\\n",
    "+&0011\\\\\\\n",
    "=&0001\n",
    "\\end{array}\n",
    "$$"
   ]
  },
  {
   "cell_type": "markdown",
   "metadata": {
    "slideshow": {
     "slide_type": "subslide"
    }
   },
   "source": [
    "c) $-1-5$\n",
    "\n",
    "$$\n",
    "\\begin{array}{cc}\n",
    " &1111\\\\\\\n",
    "+&1011\\\\\\\n",
    "=&1010\n",
    "\\end{array}\n",
    "$$"
   ]
  },
  {
   "cell_type": "markdown",
   "metadata": {
    "slideshow": {
     "slide_type": "subslide"
    }
   },
   "source": [
    "**Exercice 4**. Trouver la représentation binaire en complément à deux sur un octet de $-7$."
   ]
  },
  {
   "cell_type": "markdown",
   "metadata": {
    "slideshow": {
     "slide_type": "subslide"
    }
   },
   "source": [
    "**Solution**\n",
    "\n",
    "L'entier $-7$ est représenté sur un octet par le complément à deux du mot binaire représentant l'entier naturel $7$. \n",
    "\n",
    "$7$ est représenté sur un octet par $0000~0111$.\n",
    "\n",
    "Le complément à $1$ de $0000~0111$ est $1111~1000$.\n",
    "\n",
    "Le complément à $2$ de $0000~1111$ est donc $1111~1001$. Donc l'entier relatif $-7$ est représenté sur un octet par $1111~1001$."
   ]
  },
  {
   "cell_type": "markdown",
   "metadata": {
    "slideshow": {
     "slide_type": "subslide"
    },
    "toc-hr-collapsed": true
   },
   "source": [
    "### Propriété 1\n",
    "\n",
    "Pour une capacité fixe de $n$ bits on dispose de $2^n$ représentations binaires possibles, donc on peut représenter $2^n$ entiers relatifs.\n",
    "\n",
    "* $2^{n-1}$ représentations commençant par $0$. Ces représentations binaires correspondent aux entiers positifs entre $0$ et $2^{n-1}-1$ dans la représentation en complément à $2$.\n",
    "* $2^{n-1}$ représentations commençant par $1$. Ces représentations binaires correspondent aux entiers négatifs entre $-2^{n-1}$ et $-1$ dans la représentation en complément à $2$. "
   ]
  },
  {
   "cell_type": "markdown",
   "metadata": {
    "slideshow": {
     "slide_type": "subslide"
    }
   },
   "source": [
    "**Exercice 5**. En complément à deux, quels sont tous les entiers relatifs que l'on peut représenter par des mots de $5$ bits. Représenter les entiers $9$ et $-13$ en complément à $2$ sur une capacité fixe de $5$ bits."
   ]
  },
  {
   "cell_type": "markdown",
   "metadata": {
    "slideshow": {
     "slide_type": "subslide"
    }
   },
   "source": [
    "**Solution**\n",
    "\n",
    "On peut représenter $2^5=32$ entiers relatifs en complément à $2$ sur une capcité fixe de $5$ bits. Ce sont les entiers négatifs de $-2^4=-16$ à $-1$ et les entiers naturels de $0$ à $2^4-1=15$.\n",
    "\n",
    "La représentation en complément à $2$ de $9$ sur $5$ bits est $01001$.\n",
    "\n",
    "Représentation de $-13$.\n",
    "\n",
    "On représenta d'abord $13$ sur $5$ bits : $01101$.\n",
    "\n",
    "On détermine le complément à $1$ de  $01101$ : $10010$.\n",
    "\n",
    "On détermine le complément à $2$ de $10010$ : $10011$.\n",
    "\n",
    "La représentation sur $5$ bits de l'entier relatif $-13$ est donc $10011$.\n",
    "\n"
   ]
  },
  {
   "cell_type": "markdown",
   "metadata": {
    "slideshow": {
     "slide_type": "subslide"
    }
   },
   "source": [
    "**Exercice 6**\n",
    "\n",
    "Quels sont les entiers relatifs représentés en complément à $2$ sur $6$ bits par les mots suivants :\n",
    "\n",
    "$010100$, $010111$, $101010$ et $111110$ ?"
   ]
  },
  {
   "cell_type": "markdown",
   "metadata": {
    "slideshow": {
     "slide_type": "subslide"
    }
   },
   "source": [
    "**Solution**"
   ]
  },
  {
   "cell_type": "markdown",
   "metadata": {
    "slideshow": {
     "slide_type": "subslide"
    }
   },
   "source": [
    "En complément à $2$ sur $6$ bits on peut représenter les entiers positifs de $0$ à $2^5-1=31$ et les entiers négaitfs de $-2^5=-32$ à $-1$.\n",
    "\n",
    "Les mots $010100$ et $010111$ représentent des entiers positifs.\n",
    "\n",
    "$010100$ représente l'entier $20$ et $010111$ l'entier $23$."
   ]
  },
  {
   "cell_type": "markdown",
   "metadata": {
    "slideshow": {
     "slide_type": "subslide"
    }
   },
   "source": [
    "Quel entier est représenté par $101010$ ?\n",
    "\n",
    "* On soustrait $1$ à  $101010$ ;\n",
    "$$\n",
    "\\begin{array}{cc}\n",
    " &101010\\\\\\\n",
    "-&000001\\\\\\\n",
    "=&101001\n",
    "\\end{array}\n",
    "$$\n",
    "\n",
    "* On prend le complément à $1$ de $101001$ : $010110$.\n",
    "\n",
    "* Le mot binaire $010110$ représente l'entier naturel $22$. Donc $101010$ représente l'entier relatif $-22$."
   ]
  },
  {
   "cell_type": "markdown",
   "metadata": {
    "slideshow": {
     "slide_type": "subslide"
    }
   },
   "source": [
    "Quel entier est représenté par $111110$ ?\n",
    "\n",
    "* On soustrait $1$ à  $111110$ ;\n",
    "$$\n",
    "\\begin{array}{cc}\n",
    " &111110\\\\\\\n",
    "-&000001\\\\\\\n",
    "=&111101\n",
    "\\end{array}\n",
    "$$\n",
    "\n",
    "* On prend le complément à $1$ de $111101$ : $000010$.\n",
    "\n",
    "* Le mot binaire $000010$ représente l'entier naturel $2$. Donc $111110$ représente l'entier relatif $-2$."
   ]
  },
  {
   "cell_type": "markdown",
   "metadata": {
    "slideshow": {
     "slide_type": "subslide"
    }
   },
   "source": [
    "### Propriété 2\n",
    "\n",
    "Pour une capacité fixe de $n$ bits, si un entier relatif $x$ est compris entre $0$ et $2^{n-1}-1$ alors il sera représenté en complément à deux par sa représentation binaire et s'il est compris entre $-2^{n-1}$ et $-1$ alors il sera représenté en complément à deux par la représentation binaire de l'entier positif $x + 2^n$."
   ]
  },
  {
   "cell_type": "markdown",
   "metadata": {
    "slideshow": {
     "slide_type": "subslide"
    }
   },
   "source": [
    "**Exercice 7**. \n",
    "\n",
    "1. Déterminer la représentation binaire sur 8 bits des entiers $-120$ et $97$.\n",
    "2. Vérifier la propriété $(-120)+120=0$ en utilisant l'addition binaire en complément à deux.\n",
    "3. Peut-on écrire les nombres $-129$ et $128$ en complément à deux sur 8 bits ?"
   ]
  },
  {
   "cell_type": "markdown",
   "metadata": {
    "slideshow": {
     "slide_type": "subslide"
    }
   },
   "source": [
    "**Solution**\n",
    "\n",
    "1) \n",
    "Sur $8$ bits on peut représenter en complément à $2$ les entiers négatifs de $-2^7=-128$ à $-1$ et les entiers naturels de $0$ à $2^7-1=127$.\n",
    "\n",
    "$-120$ est compris entre $-128$ et $-1$ donc il sera représenté par la représentation binaire de l'entier $-120+2^8= 136$. La représentation binaire de $136$ sur un octet est $10001000$, donc $-120$ est représenté par $1000 1000$.\n",
    "\n",
    "$97$ est compris entre $0$ et $127$ donc il sera représenté par sa représentation binaire sur un octet, soit par $0110 0001$."
   ]
  },
  {
   "cell_type": "markdown",
   "metadata": {
    "slideshow": {
     "slide_type": "subslide"
    }
   },
   "source": [
    "2)\n",
    "$120$ est représenté par $0111 1000$ et $-120$ par $1000 1000$. On pose l'addition en binaire : \n",
    "\n",
    "$$\n",
    "\\begin{array}{cc}\n",
    " &0111 1000\\\\\\\n",
    "+&1000 1000\\\\\\\n",
    "=&0000 0000\n",
    "\\end{array}\n",
    "$$"
   ]
  },
  {
   "cell_type": "markdown",
   "metadata": {
    "slideshow": {
     "slide_type": "subslide"
    }
   },
   "source": [
    "3)\n",
    "$-129$  et $128$ ne sont pas compris entre $-2^7$ et $2^7-1$ donc on ne peut pas les représenter en complément à $2$ sur un octet."
   ]
  },
  {
   "cell_type": "markdown",
   "metadata": {
    "slideshow": {
     "slide_type": "subslide"
    }
   },
   "source": [
    "**Exercice 8**. Trouver la représentation décimale des entiers relatifs dont les représentations binaires sur 8 bits en complément à deux sont $01001111$ et $11000001$."
   ]
  },
  {
   "cell_type": "markdown",
   "metadata": {
    "slideshow": {
     "slide_type": "subslide"
    }
   },
   "source": [
    "**Solution**\n",
    "\n",
    "$0100 1111$ représente l'entier positif $95$.\n",
    "\n",
    "$11000001$ est la rprésentation binaire de $193$ sur un octet, et $11000001$ est donc la représentation en complément à $2$ de l'entier relatif $193-2^8$ soit $-63$."
   ]
  }
 ],
 "metadata": {
  "kernelspec": {
   "display_name": "Python 3",
   "language": "python",
   "name": "python3"
  },
  "language_info": {
   "codemirror_mode": {
    "name": "ipython",
    "version": 3
   },
   "file_extension": ".py",
   "mimetype": "text/x-python",
   "name": "python",
   "nbconvert_exporter": "python",
   "pygments_lexer": "ipython3",
   "version": "3.7.2"
  }
 },
 "nbformat": 4,
 "nbformat_minor": 2
}

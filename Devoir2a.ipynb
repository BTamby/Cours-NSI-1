{
 "cells": [
  {
   "cell_type": "markdown",
   "metadata": {},
   "source": [
    "**Question 1**\n",
    "\n",
    "1. Quelle est l'écriture binaire de l'entier naturel $312$ ?\n",
    "2. Quelle est la représentation binaire sur $10$ bits de $76$ ?"
   ]
  },
  {
   "cell_type": "markdown",
   "metadata": {},
   "source": [
    "**Réponse**\n",
    "\n",
    "1. L'écriture binaire de $312$ est $\\underline{1~0011~1000}_2$.\n",
    "2. La représentation binaire de $76$ sur $10$ bits est $00~0100~1100$."
   ]
  },
  {
   "cell_type": "markdown",
   "metadata": {},
   "source": [
    "**Question 2**\n",
    " \n",
    " 1. Combien de représentation binaire est-il possible d'écrire sur une capacité fixe égale à $10$ bits ?\n",
    " 2. Quel est le plus grand entier relatif que l'on peut représenter en complément à $2$ sur une capacité fixe égale à$10$ bits ?\n",
    " 3. Quels sont les entiers négatifs que l'on peut représenter en complément à $2$ sur une capacité fixe égale à$10$ bits ?\n",
    " 4. Quel est le complément à $2$ en capacité fixe égale à $10$ bits de $01~0001~1011$ ?"
   ]
  },
  {
   "cell_type": "markdown",
   "metadata": {},
   "source": [
    "**Réponse**\n",
    "\n",
    "1. Il est possible d'avoir $2^{10}=1024$ représentations binaires distinctes rur une capacité fixe égale à $10$ bits.\n",
    "2. Le plus grand entier relatif que l'on peut représenter en complément à $2$ sur une capacité fixe égale à$10$ bits est $2^9-1$, c'est-à-dire $511$.\n",
    "3. On peut représenter en complément à $2$ sur une capacité fixe égale à $10$ bits les entiers négatifs de $-512$ à $-1$.\n",
    "4. En capacité fixe égale à $10$ bit, le complément à $1$ de $01~0001~1011$ est $10~1110~0100$. On ajoute $1$ à ce dernier et on obtient le complément à $2$ de $01~0001~1011$, c'est $10~1110~0101$"
   ]
  },
  {
   "cell_type": "markdown",
   "metadata": {},
   "source": [
    "**Question 3**\n",
    "\n",
    "On travaille en capacité fixe égale à $5$ bits. Compléter le tableau suivant :"
   ]
  },
  {
   "cell_type": "markdown",
   "metadata": {},
   "source": [
    "|Mot binaire|Complément à $2$|Entier relatif représenté |\n",
    "|:---:|:---:|:---:|\n",
    "|$0~1011$|$~$|$~$|\n",
    "|$~$|$1~0001$|$~$|\n",
    "|$~$|$~$|$8$|\n",
    "|$1~0000$|$~$|$~$|\n",
    "|$~$|$~$|$~-3$|\n",
    "|$~$|$0~1111$|$~$|"
   ]
  },
  {
   "cell_type": "markdown",
   "metadata": {},
   "source": [
    "**Réponse**\n",
    "\n",
    "|Mot binaire|Complément à $2$|Entier relatif représenté |\n",
    "|:---:|:---:|:---:|\n",
    "|$0~1011$|$1~0101$|$-11$|\n",
    "|$0~1111$|$1~0001$|$~-15$|\n",
    "|$1~1000$|$0~1000$|$8$|\n",
    "|$1~0000$|$1~0000$|$-16$|\n",
    "|$0~0011$|$1~1101$|$~-3$|\n",
    "|$1~0001$|$0~1111$|$15$|"
   ]
  },
  {
   "cell_type": "markdown",
   "metadata": {},
   "source": [
    "**Question 4**\n",
    "\n",
    "On travaille en capacité fixe égale à un octet. Après avoir déterminer la représentation en complément à $2$ des entiers relatifs $-116$, $-56$, $-2$, $56$, et $2$, poser et  effectuer les opérations en binaire suivantes :\n",
    "\n",
    "1. $-116+116$\n",
    "2. $-116+56$\n",
    "3. $56+2$\n",
    "4. $-56-2$"
   ]
  },
  {
   "cell_type": "markdown",
   "metadata": {},
   "source": [
    "Sur un octet, en complément à $2$ : \n",
    "\n",
    "* $-116$ est représenté par $1000~1100$\n",
    "* $116$ est représenté par $0111~0100$\n",
    "* $-56$ est représenté par $1100~1000$\n",
    "* $56$ est représenté par $0011~1000$\n",
    "* $-2$ est représenté par $11111110$\n",
    "* $2$ est représenté par $0000~0010$"
   ]
  },
  {
   "cell_type": "markdown",
   "metadata": {},
   "source": [
    "1. $-116+116$\n",
    "\n",
    "$$\n",
    "\\begin{array}{cc}\n",
    " &1000~1100 \\\\\\\n",
    "+&0111~0100\\\\\\\n",
    "=1&0000~0000\n",
    "\\end{array}\n",
    "$$\n",
    "\n",
    "Le bit de poids fort $1$ n'est pas retenu, le résultat est donc $0000~0000$.\n",
    "\n",
    "2. $-116+56$\n",
    "\n",
    "$$\n",
    "\\begin{array}{cc}\n",
    " &1000~1100 \\\\\\\n",
    "+&0011~1000\\\\\\\n",
    "=&1100~0100\n",
    "\\end{array}\n",
    "$$\n",
    "\n",
    "3. $56+2$\n",
    "\n",
    "$$\n",
    "\\begin{array}{cc}\n",
    " &0011~1000\\\\\\\n",
    "+&0000~0010\\\\\\\n",
    "=&0011~1010\n",
    "\\end{array}\n",
    "$$\n",
    "4. $-56-2$\n",
    "\n",
    "$$\n",
    "\\begin{array}{cc}\n",
    " &1100~1000\\\\\\\n",
    "+&1111~1110\\\\\\\n",
    "=1&1100~0110\n",
    "\\end{array}\n",
    "$$\n",
    "\n",
    "Le bit de poids fort $1$ n'est pas retenu, le résultat est donc $1100~0110$.\n"
   ]
  },
  {
   "cell_type": "code",
   "execution_count": null,
   "metadata": {},
   "outputs": [],
   "source": []
  }
 ],
 "metadata": {
  "kernelspec": {
   "display_name": "Python 3",
   "language": "python",
   "name": "python3"
  },
  "language_info": {
   "codemirror_mode": {
    "name": "ipython",
    "version": 3
   },
   "file_extension": ".py",
   "mimetype": "text/x-python",
   "name": "python",
   "nbconvert_exporter": "python",
   "pygments_lexer": "ipython3",
   "version": "3.7.2"
  }
 },
 "nbformat": 4,
 "nbformat_minor": 2
}

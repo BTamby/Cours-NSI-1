{
 "cells": [
  {
   "cell_type": "markdown",
   "metadata": {
    "slideshow": {
     "slide_type": "slide"
    }
   },
   "source": [
    "# Les fonctions en Python"
   ]
  },
  {
   "cell_type": "markdown",
   "metadata": {
    "slideshow": {
     "slide_type": "subslide"
    }
   },
   "source": [
    "Les fonctions permettent de décomposer un programme en plusieurs sous-programmes.\n",
    "\n",
    "En Python la syntaxe utilisée pour définir une fonction est la suivante :\n",
    "\n",
    "\n",
    "```python\n",
    "def nom_de_la_fonction(arg1,arg2,...) :\n",
    "    Le bloc indenté des instructions de la fonction\n",
    "    return valeur\n",
    "```\n",
    "\n",
    "Le mot clé **def** est suivi d'une chaîne de caractères désignant le nom de la fonction et entre les parenthèses on déclare les variables qui reçoivent les valeurs avec lesquelles la fonction doit s'exécuter. Ces variables sont appelées les *paramètres de la fonction*. Le bloc d'instruction de la fonction doit être indentée, c'est-à-dire décalé d'une tabulation. Le mot clé **return** est suivi d'un nom de variable, ou de plusieurs séparés par une virgule, qui contient le résultat qui sera retourné au programme ayant déclenché l'exécution de la fonction.\n",
    "\n",
    "Remarque. Il existe des fonctions qui ne retournent aucune valeur, dans ce cas le mot clé **return** est omis."
   ]
  },
  {
   "cell_type": "markdown",
   "metadata": {
    "slideshow": {
     "slide_type": "slide"
    }
   },
   "source": [
    "## Quelques exemples"
   ]
  },
  {
   "cell_type": "markdown",
   "metadata": {
    "slideshow": {
     "slide_type": "subslide"
    }
   },
   "source": [
    "### Exemple 1. Une fonction qui calcule l'aire d'un rectangle. "
   ]
  },
  {
   "cell_type": "markdown",
   "metadata": {
    "slideshow": {
     "slide_type": "subslide"
    }
   },
   "source": [
    "```python\n",
    "def aire_rectangle(x,y):\n",
    "    return x*y\n",
    "```"
   ]
  },
  {
   "cell_type": "markdown",
   "metadata": {
    "slideshow": {
     "slide_type": "subslide"
    }
   },
   "source": [
    "Comment utiliser la fonction dans un programme ?"
   ]
  },
  {
   "cell_type": "markdown",
   "metadata": {
    "slideshow": {
     "slide_type": "subslide"
    }
   },
   "source": [
    "Voici un exemple d'un programme qui demande à l'utilisateur d'entrer les dimensions d'un rectangle et déclenche la fonction *aire_rectangle* pour calculer l'aire de ce rectangle."
   ]
  },
  {
   "cell_type": "code",
   "execution_count": null,
   "metadata": {
    "slideshow": {
     "slide_type": "subslide"
    }
   },
   "outputs": [],
   "source": [
    "def aire_rectangle(x,y):\n",
    "    return x*y"
   ]
  },
  {
   "cell_type": "code",
   "execution_count": null,
   "metadata": {},
   "outputs": [],
   "source": [
    "l = input(\"Largeur du rectangle : \")\n",
    "l = float(l)\n",
    "L = input(\"Longueur du rectangle : \")\n",
    "L = float(L)\n",
    "aire = aire_rectangle(l,L)\n",
    "print(\"L'aire du rectangle de largeur \",l, \" et de longueur \",L, \" est \", aire)"
   ]
  },
  {
   "cell_type": "markdown",
   "metadata": {
    "slideshow": {
     "slide_type": "subslide"
    }
   },
   "source": [
    "### Exemple 2. Une fonction qui calcule le discriminant d'un polynôme du second degré. "
   ]
  },
  {
   "cell_type": "code",
   "execution_count": null,
   "metadata": {
    "slideshow": {
     "slide_type": "subslide"
    }
   },
   "outputs": [],
   "source": [
    "def discriminant(a,b,c):\n",
    "    return b**2-4*a*c"
   ]
  },
  {
   "cell_type": "markdown",
   "metadata": {
    "slideshow": {
     "slide_type": "subslide"
    }
   },
   "source": [
    "Utilisation dans un programme qui résout une équation du second degré."
   ]
  },
  {
   "cell_type": "code",
   "execution_count": null,
   "metadata": {
    "slideshow": {
     "slide_type": "subslide"
    }
   },
   "outputs": [],
   "source": [
    "from math import sqrt\n",
    "a = input(\"Entrer un nombre non nul : a = \")\n",
    "a = float(a)\n",
    "b = input(\"Entrer un nombre non nul : b = \")\n",
    "b = float(b)\n",
    "c = input(\"Entrer un nombre non nul : c = \")\n",
    "c = float(c)\n",
    "if a != 0 :\n",
    "    d = discriminant(a,b,c)\n",
    "    if d<0 :\n",
    "        print(\"Pas de solution\")\n",
    "    elif d>0 :\n",
    "        x1 = (-b+sqrt(d))/(2*a)\n",
    "        x2 = (-b-sqrt(d))/(2*a)\n",
    "        print(\"Deux solutions : \",\"x1 = \",x1,\" et x2 = \",x2)\n",
    "    else :\n",
    "        x0 = -b/(2*a)\n",
    "        print(\"Une seule solution : x0 = \",x0)\n",
    "else :\n",
    "    print(\"Ce n'est pas une équation du second degré !\")"
   ]
  },
  {
   "cell_type": "markdown",
   "metadata": {
    "slideshow": {
     "slide_type": "subslide"
    }
   },
   "source": [
    "### Exemple 3. Une fonction nommée *racine_trinome* qui retourne les solutions si elles existent d'une équation du second degré."
   ]
  },
  {
   "cell_type": "code",
   "execution_count": null,
   "metadata": {
    "slideshow": {
     "slide_type": "subslide"
    }
   },
   "outputs": [],
   "source": [
    "def racine_trinome(a,b,c):\n",
    "    from math import sqrt\n",
    "    if a == 0 :\n",
    "        return None\n",
    "    else :\n",
    "        d = discriminant(a,b,c)\n",
    "        if d<0 :\n",
    "            return None\n",
    "        elif d>0 :\n",
    "            return (-b+sqrt(d))/(2*a),(-b-sqrt(d))/(2*a)\n",
    "        else :\n",
    "            return -b/(2*a)\n",
    "        "
   ]
  },
  {
   "cell_type": "code",
   "execution_count": null,
   "metadata": {
    "slideshow": {
     "slide_type": "subslide"
    }
   },
   "outputs": [],
   "source": [
    "racine_trinome(0,-2,-3)"
   ]
  },
  {
   "cell_type": "markdown",
   "metadata": {
    "slideshow": {
     "slide_type": "subslide"
    }
   },
   "source": [
    "Avant d'écrire l'exemple suivant nous allons découvrir comment Pyhton gère les erreurs lors de l'exéction d'un programme utilisant la fonction *input()*.\n",
    "\n",
    "Le code dans la cellule ci-dessous demande à un utilisateur d'entrer un entier en utilisant et la saisie est stockée dans la variable *saisie*. On sait que la variable est de type **str**, chaîne de caractères, il faut donc la convertir en **int**, en entier, c'est ce que tente de faire l'instruction\n",
    "```python\n",
    "n = int(saisie)\n",
    "```"
   ]
  },
  {
   "cell_type": "code",
   "execution_count": null,
   "metadata": {
    "slideshow": {
     "slide_type": "subslide"
    }
   },
   "outputs": [],
   "source": [
    "saisie = input(\"Entrer un entier : \")\n",
    "saisie = int(saisie)\n",
    "print(\"Vous avez saisi : \",saisie,\" de type : \",type(saisie))"
   ]
  },
  {
   "cell_type": "markdown",
   "metadata": {},
   "source": [
    "Si l'utilisateur entre une chaîne de caractères qui représente bien un entier, comme par exemple 4025, l'exécution du code de la cellule précédente se passe comme on l'attend. Mais si par exemple l'utilisateur entre la chaîne 4.025 alors l'exécution est interrompue, comme on peut le constater en exécutant la cellule de code précédente en entrant 4.025 au clavier."
   ]
  },
  {
   "cell_type": "markdown",
   "metadata": {},
   "source": [
    "Pour gérer ces problèmes, Python dispose du bloc d'instructions suivante : \n",
    "```python\n",
    "try :\n",
    "    un bloc d'instructions que Python tente d'exécuter\n",
    "except :\n",
    "    un bloc d'instructions que Python exécute dans le cas où il n'a pas pu exécuter le bloc précédent\n",
    "```"
   ]
  },
  {
   "cell_type": "markdown",
   "metadata": {},
   "source": [
    "En utilisant ce bloc d'instructions **try**...**except** on peut donc gérer les erreurs de conversion dans le code proposé ci-dessus en le modifiant comme suit : "
   ]
  },
  {
   "cell_type": "code",
   "execution_count": null,
   "metadata": {
    "slideshow": {
     "slide_type": "subslide"
    }
   },
   "outputs": [],
   "source": [
    "saisie = input(\"Entrer un entier : \")\n",
    "try :#On tente la conversion et on affiche un message\n",
    "    saisie = int(saisie)\n",
    "    print(\"Conversion réussie !\")\n",
    "except :#La conversion a échoué, on affiche un message.\n",
    "    print(\"La conversion a échoué. La chaîne saisie ne représenta pas un entier !\")\n",
    "print(\"Vous avez saisi : \",saisie,\" de type : \",type(saisie))"
   ]
  },
  {
   "cell_type": "markdown",
   "metadata": {
    "slideshow": {
     "slide_type": "subslide"
    }
   },
   "source": [
    "Le travail à faire et à rendre au plus tard le lundi 11/11/2019 avant minuit par **monlycee.net**.\n",
    "\n",
    "Écrire une fonction qui demande à l'utilisateur d'entrer un entier tant que la saisie au clavier ne représente pas un nombre entier et qui retourne la valeur entière saisie."
   ]
  }
 ],
 "metadata": {
  "kernelspec": {
   "display_name": "Python 3",
   "language": "python",
   "name": "python3"
  },
  "language_info": {
   "codemirror_mode": {
    "name": "ipython",
    "version": 3
   },
   "file_extension": ".py",
   "mimetype": "text/x-python",
   "name": "python",
   "nbconvert_exporter": "python",
   "pygments_lexer": "ipython3",
   "version": "3.7.2"
  }
 },
 "nbformat": 4,
 "nbformat_minor": 2
}

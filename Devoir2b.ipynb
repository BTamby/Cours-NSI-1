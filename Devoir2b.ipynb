{
 "cells": [
  {
   "cell_type": "markdown",
   "metadata": {},
   "source": [
    "**Question 1**\n",
    "\n",
    "1. Quelle est l'écriture binaire de l'entier naturel $213$ ?\n",
    "2. Quelle est la représentation binaire sur $10$ bits de $67$ ?"
   ]
  },
  {
   "cell_type": "markdown",
   "metadata": {},
   "source": [
    "**Réponse**\n",
    "\n",
    "1. L'écriture binaire de $213$ est $\\underline{1101~0101}_2$.\n",
    "2. La représentation binaire de $67$ sur $10$ bits est $00~0100~0011$."
   ]
  },
  {
   "cell_type": "markdown",
   "metadata": {},
   "source": [
    "**Question 2**\n",
    " \n",
    " 1. Combien de représentation binaire est-il possible d'écrire sur une capacité fixe égale à $11$ bits ?\n",
    " 2. Quel est le plus grand entier relatif que l'on peut représenter en complément à $2$ sur une capacité fixe égale à$11$ bits ?\n",
    " 3. Quels sont les entiers négatifs que l'on peut représenter en complément à $2$ sur une capacité fixe égale à$11$ bits ?\n",
    " 4. Quel est le complément à $2$ en capacité fixe égale à $10$ bits de $101~0001~1011$ ?"
   ]
  },
  {
   "cell_type": "markdown",
   "metadata": {},
   "source": [
    "**Réponse**\n",
    "\n",
    "1. Il est possible d'avoir $2^{11}=2048$ représentations binaires distinctes rur une capacité fixe égale à $11$ bits.\n",
    "2. Le plus grand entier relatif que l'on peut représenter en complément à $2$ sur une capacité fixe égale à$11$ bits est $2^{10}-1$, c'est-à-dire $1023$.\n",
    "3. On peut représenter en complément à $2$ sur une capacité fixe égale à $11$ bits les entiers négatifs de $-2^{10}=-1024$ à $-1$.\n",
    "4. En capacité fixe égale à $11$ bit, le complément à $1$ de $101~0001~1011$ est $010~1110~0100$. On ajoute $1$ à ce dernier et on obtient le complément à $2$ de $101~0001~1011$, c'est $010~1110~0101$"
   ]
  },
  {
   "cell_type": "markdown",
   "metadata": {},
   "source": [
    "**Question 3**\n",
    "\n",
    "On travaille en capacité fixe égale à $5$ bits. Compléter le tableau suivant :"
   ]
  },
  {
   "cell_type": "markdown",
   "metadata": {},
   "source": [
    "|Mot binaire|Complément à $2$|Entier relatif représenté |\n",
    "|:---:|:---:|:---:|\n",
    "|$0~0011$|$~$|$~$|\n",
    "|$~$|$1~1001$|$~$|\n",
    "|$~$|$~$|$7$|\n",
    "|$1~0001$|$~$|$~$|\n",
    "|$~$|$~$|$~-4$|\n",
    "|$~$|$0~1011$|$~$|"
   ]
  },
  {
   "cell_type": "markdown",
   "metadata": {},
   "source": [
    "**Réponse**\n",
    "\n",
    "|Mot binaire|Complément à $2$|Entier relatif représenté |\n",
    "|:---:|:---:|:---:|\n",
    "|$0~0011$|$1~1101$|$-3$|\n",
    "|$0~0111$|$1~1001$|$-7$|\n",
    "|$1~1001$|$00~111$|$7$|\n",
    "|$1~0001$|$0~1111$|$15$|\n",
    "|$0~0100$|$1~1100$|$~-4$|\n",
    "|$1~0101$|$0~1011$|$11$|"
   ]
  },
  {
   "cell_type": "markdown",
   "metadata": {},
   "source": [
    "**Question 4**\n",
    "\n",
    "On travaille en capacité fixe égale à un octet. Après avoir déterminer la représentation en complément à $2$ des entiers relatifs $-111$, $-66$, $-5$, $66$, et $5$, poser et  effectuer les opérations en binaire suivantes :\n",
    "\n",
    "1. $-111+111$\n",
    "2. $-111+66$\n",
    "3. $66+5$\n",
    "4. $-66-5$"
   ]
  },
  {
   "cell_type": "markdown",
   "metadata": {},
   "source": [
    "Sur un octet, en complément à $2$ : \n",
    "\n",
    "* $-111$ est représenté par $1001~0001$\n",
    "* $111$ est représenté par $0110~1111$\n",
    "* $-66$ est représenté par $1011~1110$\n",
    "* $66$ est représenté par $0100~0010$\n",
    "* $-5$ est représenté par $1111~1011$\n",
    "* $5$ est représenté par $0000~0101$"
   ]
  },
  {
   "cell_type": "markdown",
   "metadata": {},
   "source": [
    "1. $-111+111$\n",
    "\n",
    "$$\n",
    "\\begin{array}{cc}\n",
    " &1001~0001\\\\\\\n",
    "+&0110~1111\\\\\\\n",
    "=1&0000~0000\n",
    "\\end{array}\n",
    "$$\n",
    "\n",
    "Le bit de poids fort $1$ n'est pas retenu, le résultat est donc $0000~0000$.\n",
    "\n",
    "2. $-111+66$\n",
    "\n",
    "$$\n",
    "\\begin{array}{cc}\n",
    " &1001~0001\\\\\\\n",
    "+&0100~0010\\\\\\\n",
    "=&1101~0011\n",
    "\\end{array}\n",
    "$$\n",
    "\n",
    "3. $66+5$\n",
    "\n",
    "$$\n",
    "\\begin{array}{cc}\n",
    " &0100~0010\\\\\\\n",
    "+&0000~0101\\\\\\\n",
    "=&0100~0111\n",
    "\\end{array}\n",
    "$$\n",
    "4. $-66-5$\n",
    "\n",
    "$$\n",
    "\\begin{array}{cc}\n",
    " &1011~1110\\\\\\\n",
    "+&1111~1011\\\\\\\n",
    "=1&1011~1001\n",
    "\\end{array}\n",
    "$$\n",
    "\n",
    "Le bit de poids fort $1$ n'est pas retenu, le résultat est donc $1100~0110$.\n"
   ]
  }
 ],
 "metadata": {
  "kernelspec": {
   "display_name": "Python 3",
   "language": "python",
   "name": "python3"
  },
  "language_info": {
   "codemirror_mode": {
    "name": "ipython",
    "version": 3
   },
   "file_extension": ".py",
   "mimetype": "text/x-python",
   "name": "python",
   "nbconvert_exporter": "python",
   "pygments_lexer": "ipython3",
   "version": "3.7.2"
  }
 },
 "nbformat": 4,
 "nbformat_minor": 2
}

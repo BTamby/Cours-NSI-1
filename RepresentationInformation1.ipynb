{
 "cells": [
  {
   "cell_type": "markdown",
   "metadata": {
    "slideshow": {
     "slide_type": "slide"
    }
   },
   "source": [
    "# Représentation de l'information &nbsp;-&nbsp;leçon 1"
   ]
  },
  {
   "cell_type": "markdown",
   "metadata": {
    "slideshow": {
     "slide_type": "slide"
    }
   },
   "source": [
    "## Écriture décimale d'un entier naturel\n",
    "\n",
    "\n",
    "__Définition__\n",
    "\n",
    "Soit $n$ un entier naturel.\n",
    "\n",
    "Il existe un entier naturel $p$ tel $n = c_p 10^p+c_{p-1}10^{p-1}+...+c_1 10^1+c_0 10^0$ avec $c_i \\in \\left\\lbrace 0; 1; 2; ...; 9 \\right\\rbrace$ pour tout $0\\leqslant i \\leqslant p$.\n",
    "\n",
    "L'écriture __$c_pc_{p-1}...c_1c_0$__ est appelée __écriture décimale de l'entier naturel $n$__ ou __écriture de $n$ dans la base $10$__."
   ]
  },
  {
   "cell_type": "markdown",
   "metadata": {
    "slideshow": {
     "slide_type": "subslide"
    }
   },
   "source": [
    "**Exemple**. Le nombre entier naturel $2436$ écrit en base $10$ se décompose comme suit :\n",
    "\n",
    "$$2436 = 2 \\times 10^3 + 4 \\times 10^2 + 3\\times 10^1+ 6\\times 10^0$$."
   ]
  },
  {
   "cell_type": "markdown",
   "metadata": {
    "slideshow": {
     "slide_type": "slide"
    }
   },
   "source": [
    "## Représentation  d'un entier naturel $n$ dans une base $b$ quelconque, $b \\in \\mathbb{N}$.\n",
    "\n",
    "__Définition__\n",
    "\n",
    "Soit $n$ un entier naturel  et $b$ un entier naturel supérieur ou égal à $2$ : \n",
    "\n",
    "Il existe un entier naturel $p$ tel que $n = c_p b^p+c_{p-1}b^{p-1}+...+c_1 b^1+c_0 b^0$ où $c_i \\in \\left\\lbrace 0; 1; 2; ...; b-1 \\right\\rbrace$ pour tout $0\\leqslant i \\leqslant p$.\n",
    "\n",
    "L'écriture $\\underline{c_pc_{p-1}...c_1c_0}_b$ est __l'écriture du nombre $n$ dans la base $b$__. "
   ]
  },
  {
   "cell_type": "markdown",
   "metadata": {
    "slideshow": {
     "slide_type": "slide"
    }
   },
   "source": [
    "## Cas particuliers importants"
   ]
  },
  {
   "cell_type": "markdown",
   "metadata": {
    "slideshow": {
     "slide_type": "subslide"
    }
   },
   "source": [
    "### Écriture d'un entier naturel dans la base $2$"
   ]
  },
  {
   "cell_type": "markdown",
   "metadata": {
    "slideshow": {
     "slide_type": "subslide"
    }
   },
   "source": [
    "__Définition__\n",
    "\n",
    "Soit $n$ un entier naturel.\n",
    "\n",
    "Il existe un entier naturel $p$ tel que : \n",
    "\n",
    "$n = c_p 2^p+c_{p-1}2^{p-1}+...+c_1 2^1+c_0 2^0$ où $c_i \\in \\left\\lbrace 0; 1 \\right\\rbrace$ pour tout $0\\leqslant i \\leqslant p$.\n",
    "\n",
    "L'écriture $\\underline{c_pc_{p-1}...c_1c_0}_2$ est __l'écriture du nombre $n$ dans la base $2$__. On dit aussi que $\\underline{c_pc_{p-1}...c_1c_0}_2$ est __l'écriture binaire de $n$__. Les coefficients $c_i$ dans ce cas sont des __chiffres binaires__ appelés aussi des __bits__ (binary digits)\n",
    "\n",
    "**Exemple**. L'entier naturel $27$ s'écrit $\\underline{11011}_2$ car $1\\times 2^4+1\\times 2^3+0\\times 2^2+1\\times 2^1+1\\times 2^0=27$."
   ]
  },
  {
   "cell_type": "markdown",
   "metadata": {
    "slideshow": {
     "slide_type": "subslide"
    }
   },
   "source": [
    "### Écriture d'un entier naturel dans la base $8$"
   ]
  },
  {
   "cell_type": "markdown",
   "metadata": {
    "slideshow": {
     "slide_type": "subslide"
    }
   },
   "source": [
    "__Définition__\n",
    "\n",
    "Soit $n$ un entier naturel.\n",
    "\n",
    "Il existe un entier naturel $p$ tel que : \n",
    "\n",
    "$n = c_p 8^p+c_{p-1}8^{p-1}+...+c_1 8^1+c_0 8^0$ où  $c_i \\in \\left\\lbrace 0; 1; 2; 3; 4; 5; 6; 7 \\right\\rbrace$ pour tout $0\\leqslant i \\leqslant p$.\n",
    "\n",
    "L'écriture $\\underline{c_pc_{p-1}...c_1c_0}_8$ est __l'écriture du nombre $n$ dans la base $8$__. On dit aussi que $\\underline{c_pc_{p-1}...c_1c_0}_2$ est __l'écriture octale de $n$__.\n",
    "\n",
    "**Exemple**. L'entier naturel $27$ s'écrit $\\underline{33}_8$ car $3\\times 8^1+3\\times 8^0=27$."
   ]
  },
  {
   "cell_type": "markdown",
   "metadata": {},
   "source": [
    "### Écriture d'un entier naturel dans la base $16$"
   ]
  },
  {
   "cell_type": "markdown",
   "metadata": {
    "slideshow": {
     "slide_type": "subslide"
    }
   },
   "source": [
    "__Définition__\n",
    "\n",
    "Pour représenter un entier naturel dans la base $16$ on utilise en plus des $10$ chiffres les symboles $A$, $B$, $C$, $D$, $E$ et $F$ pour représenter respectivement les entiers $10$, $11$, $12$, $13$, $14$, et $15$.\n",
    "\n",
    "Soit $n$ un entier naturel.\n",
    "\n",
    "Il existe un entier naturel $p$ tel que : \n",
    "\n",
    "$n = c_p 16^p+c_{p-1}16^{p-1}+...+c_1 16^1+c_0 16^0$ où $p$ est un entier naturel et $c_i \\in \\left\\lbrace 0; 1; 2; 3; 4; 5; 6; 7; 8; 9; A; B; C; D; E; F \\right\\rbrace$ pour tout $0\\leqslant i \\leqslant p$.\n",
    "\n",
    "**Exemple**. L'écriture de $254$ en base $16$ est $\\underline{FE}_{16}$ car $15\\times 16^1 +14\\times 16^0 = 254$"
   ]
  },
  {
   "cell_type": "markdown",
   "metadata": {
    "slideshow": {
     "slide_type": "slide"
    }
   },
   "source": [
    "## Exercices"
   ]
  },
  {
   "cell_type": "markdown",
   "metadata": {
    "slideshow": {
     "slide_type": "slide"
    }
   },
   "source": [
    "**Exercice 1**. Donner l'écriture binaire des entiers naturels suivants :\n",
    "\n",
    "1. $11$\n",
    "2.  $67$\n",
    "3.  $1025$"
   ]
  },
  {
   "cell_type": "markdown",
   "metadata": {
    "slideshow": {
     "slide_type": "slide"
    }
   },
   "source": [
    "__Solution__"
   ]
  },
  {
   "cell_type": "markdown",
   "metadata": {
    "slideshow": {
     "slide_type": "subslide"
    }
   },
   "source": [
    "1)\n",
    "$11=1\\times2^3+0\\times2^2+1\\times2^1+1\\times2^0$.\n",
    "\n",
    "On en déduit que $11=\\underline{1011}_{~2}$."
   ]
  },
  {
   "cell_type": "markdown",
   "metadata": {
    "slideshow": {
     "slide_type": "subslide"
    }
   },
   "source": [
    "2)\n",
    "$67=1\\times2^6+0\\times2^5+0\\times2^4+0\\times2^3+0\\times2^2+1\\times2^1+1\\times2^0$.\n",
    "\n",
    "On en déduit que $67 = \\underline{1000011}_{~2}$."
   ]
  },
  {
   "cell_type": "markdown",
   "metadata": {
    "slideshow": {
     "slide_type": "subslide"
    }
   },
   "source": [
    "3)\n",
    "$1025=1\\times2^{10}+1\\times2^0$.\n",
    "\n",
    "On en déduit que $1025=\\underline{10000000001}_{~2}$."
   ]
  },
  {
   "cell_type": "markdown",
   "metadata": {
    "slideshow": {
     "slide_type": "slide"
    }
   },
   "source": [
    "**Exercice 2**. Quelle est l'écriture décimale des nombres suivants :\n",
    "\n",
    "1. $\\underline{100111}_2$\n",
    "2. $\\underline{1001}_2$\n",
    "3. $\\underline{1001}_5$\n",
    "4. $\\underline{1001}_{16}$"
   ]
  },
  {
   "cell_type": "markdown",
   "metadata": {
    "slideshow": {
     "slide_type": "slide"
    }
   },
   "source": [
    "__Solution__"
   ]
  },
  {
   "cell_type": "markdown",
   "metadata": {
    "slideshow": {
     "slide_type": "subslide"
    }
   },
   "source": [
    "1)\n",
    "$\\underline{100111}_2 = 2^5+2^2+2^1+2^0 = 39$"
   ]
  },
  {
   "cell_type": "markdown",
   "metadata": {
    "slideshow": {
     "slide_type": "subslide"
    }
   },
   "source": [
    "2)\n",
    "$\\underline{1001}_2 = 2^3+2^0 = 9$"
   ]
  },
  {
   "cell_type": "markdown",
   "metadata": {
    "slideshow": {
     "slide_type": "subslide"
    }
   },
   "source": [
    "3)\n",
    "$\\underline{1001}_5 = 5^3+5^0 = 126$"
   ]
  },
  {
   "cell_type": "markdown",
   "metadata": {
    "slideshow": {
     "slide_type": "subslide"
    }
   },
   "source": [
    "4)\n",
    "$\\underline{1001}_{16} = 16^3+16^0 = 4097$"
   ]
  },
  {
   "cell_type": "markdown",
   "metadata": {
    "slideshow": {
     "slide_type": "slide"
    }
   },
   "source": [
    "**Exercice 3**.  Quelle est la représentation en base $5$ de $1024$ ?"
   ]
  },
  {
   "cell_type": "markdown",
   "metadata": {
    "slideshow": {
     "slide_type": "subslide"
    }
   },
   "source": [
    "__Solution__\n",
    "\n",
    "L'écriture de  $1024$  dans la base  $5$  est  $\\underline{13044}_5$ car $1\\times5^4+3\\times5^3+0\\times5^2+4\\times5^1+4\\times5^0 = 1024$."
   ]
  },
  {
   "cell_type": "markdown",
   "metadata": {
    "slideshow": {
     "slide_type": "slide"
    }
   },
   "source": [
    "**Exercice 4**. Quelle est la représentation en base $2$ de $255$ ?"
   ]
  },
  {
   "cell_type": "markdown",
   "metadata": {
    "slideshow": {
     "slide_type": "subslide"
    }
   },
   "source": [
    "__Solution__\n",
    "\n",
    "L'écriture en base __2__ de __255__ est $\\underline{1111111}_2$ car $1\\times2^7+1\\times2^6+1\\times2^5+1\\times2^4+1\\times2^3+1\\times2^2+1\\times2^1+1\\times2^0 = 255$."
   ]
  },
  {
   "cell_type": "markdown",
   "metadata": {
    "slideshow": {
     "slide_type": "slide"
    }
   },
   "source": [
    "**Exercice 5**. Quelle est la représentation en base $16$ de $511$ ?\n"
   ]
  },
  {
   "cell_type": "markdown",
   "metadata": {
    "slideshow": {
     "slide_type": "subslide"
    }
   },
   "source": [
    "__Solution__\n",
    "\n",
    "L'écriture en base __16__ de __511__ est $\\underline{1FF}_{16}$ car $1\\times16^2+15\\times16^1+15\\times16^0 = 511$."
   ]
  },
  {
   "cell_type": "markdown",
   "metadata": {
    "slideshow": {
     "slide_type": "slide"
    }
   },
   "source": [
    "**Exercice 6**.  Quel est l'entier naturel dont la représentation en base $16$ de $FFA5$ ?"
   ]
  },
  {
   "cell_type": "markdown",
   "metadata": {
    "slideshow": {
     "slide_type": "subslide"
    }
   },
   "source": [
    "__Solution__\n",
    "\n",
    "$\\underline{FFA5}_{16}=15\\times16^3+15\\times16^2+10\\times16^1+5\\times16^0 = 65445$."
   ]
  },
  {
   "cell_type": "markdown",
   "metadata": {
    "slideshow": {
     "slide_type": "slide"
    }
   },
   "source": [
    "**Exercice 7**. Ecrire un algorithme qui affiche l'écriture dans une base $b$ donné d'un entier naturel $n$ donné."
   ]
  },
  {
   "cell_type": "markdown",
   "metadata": {
    "slideshow": {
     "slide_type": "subslide"
    }
   },
   "source": [
    "__Solution__\n",
    "\n",
    "$n$ est un entier naturel et $b$ un entier naturel plus grand ou égal à $2$.\n",
    "\n",
    "Tant que $n>0$\n",
    "\n",
    "$\\hspace{1cm} p\\longleftarrow 1$\n",
    "\n",
    "$\\hspace{1cm}$Tant que $b^p<=n$\n",
    "\n",
    "$\\hspace{2cm} p\\longleftarrow p+1$\n",
    "\n",
    "$\\hspace{1cm}$Fin tant que\n",
    ">\n",
    "$\\hspace{1cm} p\\longleftarrow p-1$\n",
    "\n",
    "$\\hspace{1cm} c\\longleftarrow 1$\n",
    "\n",
    "$\\hspace{1cm}$Tant que $c\\times b^p<=n$\n",
    "\n",
    "$\\hspace{2cm} c\\longleftarrow c+1$\n",
    "\n",
    "$\\hspace{1cm}$Fin tant que\n",
    "\n",
    "$\\hspace{1cm} c\\longleftarrow c-1$\n",
    "\n",
    "$\\hspace{1cm}$ Mémoriser $(c,p)$\n",
    "\n",
    "$\\hspace{1cm} n\\longleftarrow n-c\\times b^p$\n",
    "\n",
    "Fin Tant que"
   ]
  },
  {
   "cell_type": "markdown",
   "metadata": {
    "slideshow": {
     "slide_type": "slide"
    }
   },
   "source": [
    "## Représentation d'un entier naturel $p$ sur $n$ bits.\n"
   ]
  },
  {
   "cell_type": "markdown",
   "metadata": {
    "slideshow": {
     "slide_type": "subslide"
    }
   },
   "source": [
    "**Définition**.\n",
    "\n",
    "Soit  un entier naturel $n$ non nul. \n",
    "Représenter  un entier naturel $p$  sur $n$ bits, c'est écrire $p$  avec une suite de  $0$ et de $1$ de longueur $n$.\n",
    "\n",
    "Une suite de $0$ et de $1$ de longueur $n$ s'appelle un __mot de $n$ bits__ ou __mot binaire__.\n",
    "\n",
    "Un mot de $8$ bits s'appelle __octet__."
   ]
  },
  {
   "cell_type": "markdown",
   "metadata": {},
   "source": [
    "## Exercices"
   ]
  },
  {
   "cell_type": "markdown",
   "metadata": {
    "slideshow": {
     "slide_type": "slide"
    }
   },
   "source": [
    "**Exercice 8**.  \n",
    "Dresser la liste des nombres entiers que l'on peut écrire sur un octet et celle de ceux que l'on peut écrire sur deux octets."
   ]
  },
  {
   "cell_type": "markdown",
   "metadata": {
    "slideshow": {
     "slide_type": "subslide"
    }
   },
   "source": [
    "__Solution__\n",
    "\n",
    "Les mots de longueur un octet s'écrivent donc avec 8 bits valant soir 0 soit 1. Le plus petit nombre entier naturel a pour écriture $\\underline{00000000}_2$ sur un octet et le plus grand $\\underline{11111111}_2$.\n",
    "\n",
    "$\\underline{00000000}_2 = 0$\n",
    "\n",
    "$\\underline{11111111}_2 = 1\\times2^7+1\\times2^6+1\\times2^5+1\\times2^4+1\\times2^3+1\\times2^2+1\\times2^1+1\\times2^0 =255$\n",
    "\n",
    "On peut donc écrire les entiers naturels de $0$ à $255$ sur un octet.\n",
    "\n",
    "En remarquant que $255 = 2^8-1$ on peut donc conjecturer que les entiers naturels que l'on oeut écrir sur $2$ octets sont les entiers de $0$ à $2^{16}-1$ soit $65535$."
   ]
  },
  {
   "cell_type": "markdown",
   "metadata": {
    "slideshow": {
     "slide_type": "slide"
    }
   },
   "source": [
    "**Exercice 9**. Soit $n$ un entier naturel non nul. Démontrer que le plus grand entier naturel que l'on peut écrire en binaire sur $n$ bits est $2^n-1$."
   ]
  },
  {
   "cell_type": "markdown",
   "metadata": {
    "slideshow": {
     "slide_type": "slide"
    }
   },
   "source": [
    "__Exercice 10__. Écrire un algorithme, basé sur la division euclidiende, qui permet de déterminer l'écriture d'un entier naturel $n$ dans une base $b$, $b$ étant un entier naturel plus grand ou égal à $2$."
   ]
  },
  {
   "cell_type": "markdown",
   "metadata": {
    "slideshow": {
     "slide_type": "subslide"
    }
   },
   "source": [
    "**Solution**\n",
    "\n",
    "**Données** : $n \\in \\mathbb{N}$, $b \\in \\mathbb{N}$, $b \\geqslant 2$.\n",
    "\n",
    "Tant que $n\\neq 0$ \n",
    "\n",
    "$\\hspace{0.5cm} r \\longleftarrow n \\% b$ # Reste de la division euclidienne de $n$ par $b$\n",
    "\n",
    "$\\hspace{0.5cm}$Mémoriser $r$\n",
    "\n",
    "$\\hspace{0.5cm} r \\longleftarrow n // b$ # Quotient de la division euclidienne de $n$ par $b$"
   ]
  },
  {
   "cell_type": "markdown",
   "metadata": {
    "slideshow": {
     "slide_type": "slide"
    }
   },
   "source": [
    "__Exercice 11__. Écrire en base $8$ puis en base $16$ les entiers naturels $6$, $13$, $63$ et $125$. "
   ]
  }
 ],
 "metadata": {
  "kernelspec": {
   "display_name": "Python 3",
   "language": "python",
   "name": "python3"
  },
  "language_info": {
   "codemirror_mode": {
    "name": "ipython",
    "version": 3
   },
   "file_extension": ".py",
   "mimetype": "text/x-python",
   "name": "python",
   "nbconvert_exporter": "python",
   "pygments_lexer": "ipython3",
   "version": "3.7.2"
  }
 },
 "nbformat": 4,
 "nbformat_minor": 2
}
